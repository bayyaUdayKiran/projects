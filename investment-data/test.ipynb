{
 "cells": [
  {
   "cell_type": "code",
   "execution_count": 5,
   "id": "16359708-1265-4a5c-8f95-de3509dc8aea",
   "metadata": {},
   "outputs": [],
   "source": [
    "import pandas as pd"
   ]
  },
  {
   "cell_type": "code",
   "execution_count": 6,
   "id": "a6993e02-ff2e-46ec-8224-5e15cc58d740",
   "metadata": {},
   "outputs": [],
   "source": [
    "df = pd.read-csv(\"data.csv\")\n",
    "\n",
    "nw_row = "
   ]
  },
  {
   "cell_type": "code",
   "execution_count": 8,
   "id": "acf2c174-a65a-4362-9ceb-8430a18a4423",
   "metadata": {},
   "outputs": [],
   "source": [
    "data.to_csv(\"data.csv\")"
   ]
  }
 ],
 "metadata": {
  "kernelspec": {
   "display_name": "Python 3 (ipykernel)",
   "language": "python",
   "name": "python3"
  },
  "language_info": {
   "codemirror_mode": {
    "name": "ipython",
    "version": 3
   },
   "file_extension": ".py",
   "mimetype": "text/x-python",
   "name": "python",
   "nbconvert_exporter": "python",
   "pygments_lexer": "ipython3",
   "version": "3.10.12"
  }
 },
 "nbformat": 4,
 "nbformat_minor": 5
}
